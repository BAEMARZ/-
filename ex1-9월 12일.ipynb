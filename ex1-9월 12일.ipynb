{
 "cells": [
  {
   "cell_type": "markdown",
   "id": "e9c87f89-9497-4d55-8e0e-beeeee750f93",
   "metadata": {},
   "source": [
    "### 날짜 : 25.09.12\n",
    "### 개발자 : 20232657 배현준\n",
    "### 내용 주제 : 주피터 기초 "
   ]
  },
  {
   "cell_type": "markdown",
   "id": "9d4dfa4e-b2f4-4022-b3bf-14a2404e38bc",
   "metadata": {},
   "source": [
    "## 성찰 내용 : \n", 파이썬에 대하여 전혀 몰랐는데 알게되었습니다

    "### 질문"
   ]
  },
  {
   "cell_type": "code",
   "execution_count": null,
   "id": "e5c5c3e1-f67e-44dd-9687-48d7be6f6956",
   "metadata": {},
   "outputs": [],
   "source": [
    "a=3 # 변수는 변수명 = 값 형식으로 사용함\n",
    "b=4\n",
    "c=a+b\n",
    "print(a, \"+\", b, \"=\", c)"
   ]
  },
  {
   "cell_type": "code",
   "execution_count": null,
   "id": "3a3690d0-7dd5-4696-a681-c5274eb5e43a",
   "metadata": {},
   "outputs": [],
   "source": [
    "a=1.5\n",
    "b=2.0\n",
    "c=a+b\n",
    "print(\"a\", a, \"+\", b, \"=\", c) \n",
    "print('나의 이름:', \"홍길동\", \"나의 나이:\", 22, False)"
   ]
  },
  {
   "cell_type": "code",
   "execution_count": null,
   "id": "fa402ca1-831a-4bd6-82d4-a60dfbd452a6",
   "metadata": {},
   "outputs": [],
   "source": [
    "a=5;b=5.0;c=True;d=False\n",
    "e='문자';f=\"문자열\"\n",
    "g='''1~~~\n",
    "2~~~\n",
    "3~~~ '''\n",
    "h=\"\"\"1~~~\n",
    "2~~~\n",
    "3~~~ \"\"\"\n",
    "print(a, b, c, d, e, f, g, h)\n",
    "print( type(a), type(b), type(c), type(d), type(e), type(f), type(g), type(h) )"
   ]
  },
  {
   "cell_type": "code",
   "execution_count": null,
   "id": "e055a02c-e3ee-4314-9932-25babe7bf964",
   "metadata": {},
   "outputs": [],
   "source": [
    "x=input() ; y=input()\n",
    "print(y) ; print(x)\n",
    "print(x+y)\n",
    "x+y\n",
    "x"
   ]
  },
  {
   "cell_type": "code",
   "execution_count": null,
   "id": "ce349301-319b-43ce-8d33-792fef0abb39",
   "metadata": {},
   "outputs": [],
   "source": [
    "## a=input()\n",
    "## a=int(a)\n",
    "\n",
    "\n",
    "a=int( input('정수 데이터 입력?') ) ; b=int(input('정수 데이터 입력?'))\n",
    "print(a) ; print(b)\n",
    "a+b"
   ]
  },
  {
   "cell_type": "code",
   "execution_count": null,
   "id": "e6ee281f-af2d-409e-ac81-43683010bd16",
   "metadata": {},
   "outputs": [],
   "source": [
    "a=float(input()) ; b=float(input())\n",
    "print(a) ; print(b)\n",
    "a+b"
   ]
  },
  {
   "cell_type": "code",
   "execution_count": null,
   "id": "6b3ff1ec-3b3b-431a-b81e-78a025c039e7",
   "metadata": {},
   "outputs": [],
   "source": [
    "c=input()\n",
    "c=float(c)\n",
    "for i in range(3):\n",
    "    print(\"i=\", i, \"\\t c=\", c, \"\\n\")   # 엔터를 치고 싶을때 붙힘\n",
    "    print(\"i={} \\t c={} \\n\".format(i, c))\n",
    "    print(\"c={1} \\t i={0} \\n\".format(i, c))\n",
    "    print(\"끝?\", end='')  # 엔터를 안 치고 싶을때 붙힘\n",
    "\n",
    "print(\"끝\")\n",
    "\n",
    "# 시험문제"
   ]
  },
  {
   "cell_type": "code",
   "execution_count": null,
   "id": "3a64cdc6-d0d3-466c-9e44-95a1da3878e1",
   "metadata": {},
   "outputs": [],
   "source": [
    "a=int(input()) \n",
    "print(a, '%', sep='')"
   ]
  },
  {
   "cell_type": "code",
   "execution_count": null,
   "id": "cb8f2ca3-f57d-4319-a899-bd03b72cc2d1",
   "metadata": {},
   "outputs": [],
   "source": [
    "## 주로 시간 입력 받을때 사용\n",
    "a, b = input(\"수:수 로 입력하세요\").split(':') \n",
    "print(a, b, sep=':')\n",
    "print(a, \"\\t\", b)"
   ]
  },
  {
   "cell_type": "code",
   "execution_count": 6,
   "id": "0baf93bb-fa0b-4c94-994e-0db37854ba35",
   "metadata": {},
   "outputs": [
    {
     "name": "stdin",
     "output_type": "stream",
     "text": [
      "년-월-일 로 입력하세요 2004-02-25\n"
     ]
    },
    {
     "name": "stdout",
     "output_type": "stream",
     "text": [
      "25///////02///////2004\n",
      "25-02-2004\n",
      "25 02 2004\n"
     ]
    }
   ],
   "source": [
    "## 주로 날짜 입력 받을때 사용\n",
    "y, m, d = input(\"년-월-일 로 입력하세요\").split('-')\n",
    "print(d, m, y, sep='///////')\n",
    "print(d, m, y, sep='-')\n",
    "print(d, m, y)"
   ]
  },
  {
   "cell_type": "code",
   "execution_count": 7,
   "id": "73553208-5b5e-42ad-aa7a-21caa1ec8e7e",
   "metadata": {},
   "outputs": [
    {
     "name": "stdin",
     "output_type": "stream",
     "text": [
      "수 수 로 입력하세요 1 1\n"
     ]
    },
    {
     "name": "stdout",
     "output_type": "stream",
     "text": [
      "11\n"
     ]
    }
   ],
   "source": [
    "w1, w2 = input(\"수 수 로 입력하세요\").split(' ')\n",
    "s = w1 + w2\n",
    "print(s)"
   ]
  },
  {
   "cell_type": "code",
   "execution_count": 4,
   "id": "acd31368-a8e6-487f-af35-ea3bfdfc212a",
   "metadata": {},
   "outputs": [
    {
     "name": "stdin",
     "output_type": "stream",
     "text": [
      " 5  9\n"
     ]
    },
    {
     "name": "stdout",
     "output_type": "stream",
     "text": [
      "14\n"
     ]
    }
   ],
   "source": [
    "## w1, w2 = int(input().split()) 에러 split\n",
    "## w1, w2 = int(input()).split() 에러 split은 숫자로 사용 불가 문자에서만 분류가능\n",
    "w1, w2 = input().split() ## 입력자가 없으면 띄워쓰기로 대체된다\n",
    "w1=int(w1)\n",
    "w2=int(w2)\n",
    "s = w1 + w2\n",
    "print(s)"
   ]
  },
  {
   "cell_type": "code",
   "execution_count": null,
   "id": "025f2dc5-5c29-4d20-b8ea-110f4a7a22b2",
   "metadata": {},
   "outputs": [],
   "source": []
  }
 ],
 "metadata": {
  "kernelspec": {
   "display_name": "Python 3 (ipykernel)",
   "language": "python",
   "name": "python3"
  },
  "language_info": {
   "codemirror_mode": {
    "name": "ipython",
    "version": 3
   },
   "file_extension": ".py",
   "mimetype": "text/x-python",
   "name": "python",
   "nbconvert_exporter": "python",
   "pygments_lexer": "ipython3",
   "version": "3.13.5"
  }
 },
 "nbformat": 4,
 "nbformat_minor": 5
}
